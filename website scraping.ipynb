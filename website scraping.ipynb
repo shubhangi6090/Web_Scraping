{
 "cells": [
  {
   "cell_type": "code",
   "execution_count": 11,
   "id": "407e6512",
   "metadata": {},
   "outputs": [
    {
     "name": "stdout",
     "output_type": "stream",
     "text": [
      "Note: you may need to restart the kernel to use updated packages.\n"
     ]
    }
   ],
   "source": [
    "pip install bs4 --quiet"
   ]
  },
  {
   "cell_type": "code",
   "execution_count": 12,
   "id": "8522fa19",
   "metadata": {},
   "outputs": [],
   "source": [
    "from bs4 import BeautifulSoup"
   ]
  },
  {
   "cell_type": "code",
   "execution_count": 13,
   "id": "3e58b459",
   "metadata": {},
   "outputs": [],
   "source": [
    "import requests"
   ]
  },
  {
   "cell_type": "code",
   "execution_count": 14,
   "id": "823816ac",
   "metadata": {},
   "outputs": [],
   "source": [
    "products_url=\"https://www.flipkart.com/search?q=mobiles+under+20000&as=on&as-show=on&otracker=AS_Query_OrganicAutoSuggest_3_8_na_na_na&otracker1=AS_Query_OrganicAutoSuggest_3_8_na_na_na&as-pos=3&as-type=RECENT&suggestionId=mobiles+under+20000&requestId=db87adf1-4f6c-4884-b26e-6e9053b9f6f8&as-backfill=on\""
   ]
  },
  {
   "cell_type": "code",
   "execution_count": 15,
   "id": "69a8ab06",
   "metadata": {},
   "outputs": [],
   "source": [
    "response=requests.get(products_url)"
   ]
  },
  {
   "cell_type": "code",
   "execution_count": 16,
   "id": "f59a9b8c",
   "metadata": {},
   "outputs": [
    {
     "data": {
      "text/plain": [
       "200"
      ]
     },
     "execution_count": 16,
     "metadata": {},
     "output_type": "execute_result"
    }
   ],
   "source": [
    "response.status_code"
   ]
  },
  {
   "cell_type": "code",
   "execution_count": 17,
   "id": "c46c0165",
   "metadata": {},
   "outputs": [],
   "source": [
    "page_contents = response.text"
   ]
  },
  {
   "cell_type": "code",
   "execution_count": 18,
   "id": "9014b701",
   "metadata": {},
   "outputs": [],
   "source": [
    "doc = BeautifulSoup(page_contents,'html.parser')\n"
   ]
  },
  {
   "cell_type": "code",
   "execution_count": 19,
   "id": "c3f5165b",
   "metadata": {},
   "outputs": [],
   "source": [
    "heading_class = \"_4rR01T\"\n",
    "heading_tags = doc.findAll('div',class_= heading_class)\n",
    "name_text = []"
   ]
  },
  {
   "cell_type": "code",
   "execution_count": 20,
   "id": "6a611b5e",
   "metadata": {},
   "outputs": [
    {
     "data": {
      "text/plain": [
       "[<div class=\"_4rR01T\">POCO M4 Pro (Cool Blue, 128 GB)</div>,\n",
       " <div class=\"_4rR01T\">SAMSUNG Galaxy F23 5G (Forest Green, 128 GB)</div>,\n",
       " <div class=\"_4rR01T\">SAMSUNG Galaxy F23 5G (Aqua Blue, 128 GB)</div>,\n",
       " <div class=\"_4rR01T\">POCO M4 Pro (Yellow, 128 GB)</div>]"
      ]
     },
     "execution_count": 20,
     "metadata": {},
     "output_type": "execute_result"
    }
   ],
   "source": [
    "heading_tags[:4]"
   ]
  },
  {
   "cell_type": "code",
   "execution_count": 21,
   "id": "c84dec65",
   "metadata": {},
   "outputs": [],
   "source": [
    "price_class = \"_30jeq3 _1_WHN1\"\n",
    "price_tags = doc.findAll('div', class_=price_class)\n",
    "price_text = [] "
   ]
  },
  {
   "cell_type": "code",
   "execution_count": 22,
   "id": "de2d866e",
   "metadata": {},
   "outputs": [
    {
     "data": {
      "text/plain": [
       "[<div class=\"_30jeq3 _1_WHN1\">₹16,549</div>,\n",
       " <div class=\"_30jeq3 _1_WHN1\">₹14,999</div>,\n",
       " <div class=\"_30jeq3 _1_WHN1\">₹14,999</div>,\n",
       " <div class=\"_30jeq3 _1_WHN1\">₹16,549</div>]"
      ]
     },
     "execution_count": 22,
     "metadata": {},
     "output_type": "execute_result"
    }
   ],
   "source": [
    "price_tags[:4]"
   ]
  },
  {
   "cell_type": "code",
   "execution_count": 23,
   "id": "c2660f73",
   "metadata": {},
   "outputs": [
    {
     "data": {
      "text/plain": [
       "[<div class=\"_3LWZlK\">4.3<img class=\"_1wB99o\" src=\"data:image/svg+xml;base64,PHN2ZyB4bWxucz0iaHR0cDovL3d3dy53My5vcmcvMjAwMC9zdmciIHdpZHRoPSIxMyIgaGVpZ2h0PSIxMiI+PHBhdGggZmlsbD0iI0ZGRiIgZD0iTTYuNSA5LjQzOWwtMy42NzQgMi4yMy45NC00LjI2LTMuMjEtMi44ODMgNC4yNTQtLjQwNEw2LjUuMTEybDEuNjkgNC4wMSA0LjI1NC40MDQtMy4yMSAyLjg4Mi45NCA0LjI2eiIvPjwvc3ZnPg==\"/></div>,\n",
       " <div class=\"_3LWZlK\">4.3<img class=\"_1wB99o\" src=\"data:image/svg+xml;base64,PHN2ZyB4bWxucz0iaHR0cDovL3d3dy53My5vcmcvMjAwMC9zdmciIHdpZHRoPSIxMyIgaGVpZ2h0PSIxMiI+PHBhdGggZmlsbD0iI0ZGRiIgZD0iTTYuNSA5LjQzOWwtMy42NzQgMi4yMy45NC00LjI2LTMuMjEtMi44ODMgNC4yNTQtLjQwNEw2LjUuMTEybDEuNjkgNC4wMSA0LjI1NC40MDQtMy4yMSAyLjg4Mi45NCA0LjI2eiIvPjwvc3ZnPg==\"/></div>,\n",
       " <div class=\"_3LWZlK\">4.3<img class=\"_1wB99o\" src=\"data:image/svg+xml;base64,PHN2ZyB4bWxucz0iaHR0cDovL3d3dy53My5vcmcvMjAwMC9zdmciIHdpZHRoPSIxMyIgaGVpZ2h0PSIxMiI+PHBhdGggZmlsbD0iI0ZGRiIgZD0iTTYuNSA5LjQzOWwtMy42NzQgMi4yMy45NC00LjI2LTMuMjEtMi44ODMgNC4yNTQtLjQwNEw2LjUuMTEybDEuNjkgNC4wMSA0LjI1NC40MDQtMy4yMSAyLjg4Mi45NCA0LjI2eiIvPjwvc3ZnPg==\"/></div>,\n",
       " <div class=\"_3LWZlK\">4.3<img class=\"_1wB99o\" src=\"data:image/svg+xml;base64,PHN2ZyB4bWxucz0iaHR0cDovL3d3dy53My5vcmcvMjAwMC9zdmciIHdpZHRoPSIxMyIgaGVpZ2h0PSIxMiI+PHBhdGggZmlsbD0iI0ZGRiIgZD0iTTYuNSA5LjQzOWwtMy42NzQgMi4yMy45NC00LjI2LTMuMjEtMi44ODMgNC4yNTQtLjQwNEw2LjUuMTEybDEuNjkgNC4wMSA0LjI1NC40MDQtMy4yMSAyLjg4Mi45NCA0LjI2eiIvPjwvc3ZnPg==\"/></div>]"
      ]
     },
     "execution_count": 23,
     "metadata": {},
     "output_type": "execute_result"
    }
   ],
   "source": [
    "stars_class= \"_3LWZlK\"\n",
    "stars_tags = doc.findAll('div', class_=stars_class)\n",
    "stars_text = [] \n",
    "stars_tags[:4]"
   ]
  },
  {
   "cell_type": "code",
   "execution_count": 16,
   "id": "9c37e421",
   "metadata": {},
   "outputs": [
    {
     "data": {
      "text/plain": [
       "[<span class=\"_2_R_DZ\"><span><span>13,309 Ratings </span><span class=\"_13vcmD\">&amp;</span><span> 954 Reviews</span></span></span>,\n",
       " <span class=\"_2_R_DZ\"><span><span>1,05,262 Ratings </span><span class=\"_13vcmD\">&amp;</span><span> 10,633 Reviews</span></span></span>,\n",
       " <span class=\"_2_R_DZ\"><span><span>13,309 Ratings </span><span class=\"_13vcmD\">&amp;</span><span> 954 Reviews</span></span></span>,\n",
       " <span class=\"_2_R_DZ\"><span><span>10,841 Ratings </span><span class=\"_13vcmD\">&amp;</span><span> 986 Reviews</span></span></span>]"
      ]
     },
     "execution_count": 16,
     "metadata": {},
     "output_type": "execute_result"
    }
   ],
   "source": [
    "reviews_class = \"_2_R_DZ\"\n",
    "reviews_tags = doc.findAll('span', class_=reviews_class)\n",
    "reviews_text = []\n",
    "reviews_tags[:4]"
   ]
  },
  {
   "cell_type": "code",
   "execution_count": 17,
   "id": "06ab88f7",
   "metadata": {},
   "outputs": [],
   "source": [
    "url_class = \"_1fQZEK\"\n",
    "base_url = \"https://www.flipkart.com\"\n",
    "url_tags = doc.findAll('a', class_=url_class)\n",
    "url_product = []\n",
    "for i in range(len(url_tags)):\n",
    "    url_product.append(base_url+url_tags[i]['href'])"
   ]
  },
  {
   "cell_type": "code",
   "execution_count": 18,
   "id": "02a690c1",
   "metadata": {},
   "outputs": [],
   "source": [
    "for i in range(len(reviews_tags)):\n",
    "        price_text.append(price_tags[i].text)\n",
    "        name_text.append(heading_tags[i].text)\n",
    "        stars_text.append(stars_tags[i].text)\n",
    "        reviews_text.append(reviews_tags[i].text)\n",
    "        reviews_text[i]=reviews_text[i].replace(\"\\xa0\",\" \")"
   ]
  },
  {
   "cell_type": "code",
   "execution_count": 19,
   "id": "769c60fe",
   "metadata": {},
   "outputs": [
    {
     "data": {
      "text/html": [
       "<div>\n",
       "<style scoped>\n",
       "    .dataframe tbody tr th:only-of-type {\n",
       "        vertical-align: middle;\n",
       "    }\n",
       "\n",
       "    .dataframe tbody tr th {\n",
       "        vertical-align: top;\n",
       "    }\n",
       "\n",
       "    .dataframe thead th {\n",
       "        text-align: right;\n",
       "    }\n",
       "</style>\n",
       "<table border=\"1\" class=\"dataframe\">\n",
       "  <thead>\n",
       "    <tr style=\"text-align: right;\">\n",
       "      <th></th>\n",
       "      <th>name</th>\n",
       "      <th>price</th>\n",
       "      <th>stars</th>\n",
       "      <th>reviews</th>\n",
       "      <th>url</th>\n",
       "    </tr>\n",
       "  </thead>\n",
       "  <tbody>\n",
       "    <tr>\n",
       "      <th>0</th>\n",
       "      <td>REDMI Note 10T 5G (Graphite Black, 128 GB)</td>\n",
       "      <td>₹13,999</td>\n",
       "      <td>4.3</td>\n",
       "      <td>13,309 Ratings &amp; 954 Reviews</td>\n",
       "      <td>https://www.flipkart.com/redmi-note-10t-5g-gra...</td>\n",
       "    </tr>\n",
       "    <tr>\n",
       "      <th>1</th>\n",
       "      <td>MOTOROLA G60 (Moonless, 128 GB)</td>\n",
       "      <td>₹14,999</td>\n",
       "      <td>4.2</td>\n",
       "      <td>1,05,262 Ratings &amp; 10,633 Reviews</td>\n",
       "      <td>https://www.flipkart.com/motorola-g60-moonless...</td>\n",
       "    </tr>\n",
       "    <tr>\n",
       "      <th>2</th>\n",
       "      <td>REDMI Note 10T 5G (Metallic Blue, 128 GB)</td>\n",
       "      <td>₹13,999</td>\n",
       "      <td>4.3</td>\n",
       "      <td>13,309 Ratings &amp; 954 Reviews</td>\n",
       "      <td>https://www.flipkart.com/redmi-note-10t-5g-met...</td>\n",
       "    </tr>\n",
       "    <tr>\n",
       "      <th>3</th>\n",
       "      <td>vivo T1 44W (Starry Sky, 128 GB)</td>\n",
       "      <td>₹15,999</td>\n",
       "      <td>4.4</td>\n",
       "      <td>10,841 Ratings &amp; 986 Reviews</td>\n",
       "      <td>https://www.flipkart.com/vivo-t1-44w-starry-sk...</td>\n",
       "    </tr>\n",
       "  </tbody>\n",
       "</table>\n",
       "</div>"
      ],
      "text/plain": [
       "                                         name    price stars  \\\n",
       "0  REDMI Note 10T 5G (Graphite Black, 128 GB)  ₹13,999   4.3   \n",
       "1             MOTOROLA G60 (Moonless, 128 GB)  ₹14,999   4.2   \n",
       "2   REDMI Note 10T 5G (Metallic Blue, 128 GB)  ₹13,999   4.3   \n",
       "3            vivo T1 44W (Starry Sky, 128 GB)  ₹15,999   4.4   \n",
       "\n",
       "                             reviews  \\\n",
       "0       13,309 Ratings & 954 Reviews   \n",
       "1  1,05,262 Ratings & 10,633 Reviews   \n",
       "2       13,309 Ratings & 954 Reviews   \n",
       "3       10,841 Ratings & 986 Reviews   \n",
       "\n",
       "                                                 url  \n",
       "0  https://www.flipkart.com/redmi-note-10t-5g-gra...  \n",
       "1  https://www.flipkart.com/motorola-g60-moonless...  \n",
       "2  https://www.flipkart.com/redmi-note-10t-5g-met...  \n",
       "3  https://www.flipkart.com/vivo-t1-44w-starry-sk...  "
      ]
     },
     "execution_count": 19,
     "metadata": {},
     "output_type": "execute_result"
    }
   ],
   "source": [
    "product_dict={'name':name_text,'price':price_text,'stars':stars_text,'reviews':reviews_text,'url':url_product}\n",
    "import pandas as pd\n",
    "products_df=pd.DataFrame(product_dict)\n",
    "products_df[:4]"
   ]
  },
  {
   "cell_type": "code",
   "execution_count": 20,
   "id": "0eacc0f7",
   "metadata": {},
   "outputs": [],
   "source": [
    "products_df.to_csv('products.csv')"
   ]
  },
  {
   "cell_type": "code",
   "execution_count": null,
   "id": "45f4282a",
   "metadata": {},
   "outputs": [],
   "source": []
  }
 ],
 "metadata": {
  "kernelspec": {
   "display_name": "Python 3 (ipykernel)",
   "language": "python",
   "name": "python3"
  },
  "language_info": {
   "codemirror_mode": {
    "name": "ipython",
    "version": 3
   },
   "file_extension": ".py",
   "mimetype": "text/x-python",
   "name": "python",
   "nbconvert_exporter": "python",
   "pygments_lexer": "ipython3",
   "version": "3.9.7"
  }
 },
 "nbformat": 4,
 "nbformat_minor": 5
}
